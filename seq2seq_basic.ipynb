{
 "cells": [
  {
   "cell_type": "markdown",
   "metadata": {},
   "source": [
    "# DATA DOWNLOAD\n",
    "To start this project, you need an addition data file.\n",
    "\n",
    "First you should download data from:\n",
    "https://pan.baidu.com/s/1KFui9zZKjRqzFkCJH5nenw\n",
    "    \n",
    "Then unzip it,create a data dir, and put it in data directory\n",
    "\n",
    "## After you do all that , the following file should be found:\n",
    "\n",
    "```python\n",
    "'data/segmented_train_seg_by_word.txt' \n",
    "```\n",
    "\n",
    "And that means you are good to go."
   ]
  },
  {
   "cell_type": "code",
   "execution_count": 2,
   "metadata": {},
   "outputs": [
    {
     "name": "stdout",
     "output_type": "stream",
     "text": [
      "20000000 data/segmented_train_seg_by_word.txt\r\n"
     ]
    }
   ],
   "source": [
    "! wc -l data/segmented_train_seg_by_word.txt"
   ]
  },
  {
   "cell_type": "markdown",
   "metadata": {},
   "source": [
    "# DATA PROCESS"
   ]
  },
  {
   "cell_type": "code",
   "execution_count": 179,
   "metadata": {
    "collapsed": true
   },
   "outputs": [],
   "source": [
    "from utils import ProgressBar\n",
    "import numpy as np"
   ]
  },
  {
   "cell_type": "code",
   "execution_count": 85,
   "metadata": {},
   "outputs": [
    {
     "name": "stdout",
     "output_type": "stream",
     "text": [
      " 100.00 % [==================================================>] 10000000/10000000 \t used:78s eta:0 s"
     ]
    }
   ],
   "source": [
    "enline = None\n",
    "chline = None\n",
    "\n",
    "sentlength = 5\n",
    "\n",
    "enlines = []\n",
    "chlines = []\n",
    "pb = ProgressBar(worksum=10000000)\n",
    "pb.startjob()\n",
    "num = 0\n",
    "with open('data/segmented_train_seg_by_word.txt') as fhdl:\n",
    "    for line in fhdl:\n",
    "        num += 1\n",
    "        if num % 2 == 1:\n",
    "            enline = line\n",
    "            continue\n",
    "        else:\n",
    "            chline = line\n",
    "        \n",
    "        enlinesp = [i.lower() for i in enline.strip(\"\\n\").split()]\n",
    "        chlinesp = [i for i in chline.strip(\"\\n\").replace(' ','')]\n",
    "        if len(enlinesp) <= sentlength and len(chlinesp) <= sentlength:\n",
    "            enlines.append(enlinesp)\n",
    "            chlines.append(chlinesp)\n",
    "        if (num // 2) % 1000 == 0:\n",
    "            pb.complete(1000)\n",
    "        "
   ]
  },
  {
   "cell_type": "code",
   "execution_count": 379,
   "metadata": {},
   "outputs": [
    {
     "data": {
      "text/plain": [
       "[['deuces', 'the', 'winner', '.'],\n",
       " ['a', 'couple', 'of', 'what', '?'],\n",
       " ['a', 'pair', 'of', 'wives', '?'],\n",
       " ['husband', 'and', 'wife', '.'],\n",
       " ['couple', '.'],\n",
       " ['nice', 'couple', '.'],\n",
       " ['two', 'lovers', '.'],\n",
       " ['a', 'couple', 'getting', 'married', '.'],\n",
       " ['couple', 'of', 'newbies', '?'],\n",
       " ['a', 'couple', 'of', 'gunslingers', '.']]"
      ]
     },
     "execution_count": 379,
     "metadata": {},
     "output_type": "execute_result"
    }
   ],
   "source": [
    "enlines[:10]"
   ]
  },
  {
   "cell_type": "code",
   "execution_count": 87,
   "metadata": {},
   "outputs": [
    {
     "data": {
      "text/plain": [
       "[['一', '对', '二', '胜', '。'],\n",
       " ['一', '对', '什', '么', '？'],\n",
       " ['一', '对', '太', '太', '？'],\n",
       " ['一', '对', '夫', '妇', '。'],\n",
       " ['一', '对', '夫', '妻', '。'],\n",
       " ['一', '对', '好', '人', '。'],\n",
       " ['一', '对', '情', '人', '。'],\n",
       " ['一', '对', '新', '人', '。'],\n",
       " ['一', '对', '新', '手', '？'],\n",
       " ['一', '对', '枪', '手', '。']]"
      ]
     },
     "execution_count": 87,
     "metadata": {},
     "output_type": "execute_result"
    }
   ],
   "source": [
    "chlines[:10]"
   ]
  },
  {
   "cell_type": "code",
   "execution_count": 88,
   "metadata": {},
   "outputs": [
    {
     "data": {
      "text/plain": [
       "(103912, 103912)"
      ]
     },
     "execution_count": 88,
     "metadata": {},
     "output_type": "execute_result"
    }
   ],
   "source": [
    "len(chlines),len(enlines)"
   ]
  },
  {
   "cell_type": "code",
   "execution_count": 89,
   "metadata": {
    "collapsed": true
   },
   "outputs": [],
   "source": [
    "enwords = []\n",
    "chwords = []\n",
    "for sent in enlines:\n",
    "    for enword in sent:\n",
    "        enwords.append(enword)\n",
    "        \n",
    "for sent in chlines:\n",
    "    for chword in sent:\n",
    "        chwords.append(chword)\n",
    "    "
   ]
  },
  {
   "cell_type": "code",
   "execution_count": 90,
   "metadata": {
    "collapsed": true
   },
   "outputs": [],
   "source": [
    "from collections import Counter"
   ]
  },
  {
   "cell_type": "code",
   "execution_count": 91,
   "metadata": {},
   "outputs": [
    {
     "data": {
      "text/plain": [
       "[('.', 49461),\n",
       " ('?', 14511),\n",
       " ('the', 10472),\n",
       " ('i', 10013),\n",
       " (',', 9489),\n",
       " ('!', 8807),\n",
       " ('you', 7493),\n",
       " ('a', 6860),\n",
       " (\"'\", 5555),\n",
       " ('it', 5524)]"
      ]
     },
     "execution_count": 91,
     "metadata": {},
     "output_type": "execute_result"
    }
   ],
   "source": [
    "Counter(enwords).most_common(10)"
   ]
  },
  {
   "cell_type": "code",
   "execution_count": 92,
   "metadata": {},
   "outputs": [
    {
     "data": {
      "text/plain": [
       "[('。', 44900),\n",
       " ('我', 15087),\n",
       " ('？', 14454),\n",
       " ('你', 9087),\n",
       " ('！', 8915),\n",
       " ('了', 8663),\n",
       " ('的', 8053),\n",
       " ('，', 7291),\n",
       " ('一', 6091),\n",
       " ('是', 5946)]"
      ]
     },
     "execution_count": 92,
     "metadata": {},
     "output_type": "execute_result"
    }
   ],
   "source": [
    "Counter(chwords).most_common(10)"
   ]
  },
  {
   "cell_type": "code",
   "execution_count": 93,
   "metadata": {},
   "outputs": [
    {
     "data": {
      "text/plain": [
       "(21739, 4054)"
      ]
     },
     "execution_count": 93,
     "metadata": {},
     "output_type": "execute_result"
    }
   ],
   "source": [
    "len(set(enwords)),len(set(chwords))"
   ]
  },
  {
   "cell_type": "code",
   "execution_count": 117,
   "metadata": {
    "collapsed": true
   },
   "outputs": [],
   "source": [
    "ch2ind = {}\n",
    "ind2ch = {}\n",
    "en2ind = {}\n",
    "ind2en = {}"
   ]
  },
  {
   "cell_type": "code",
   "execution_count": 118,
   "metadata": {
    "collapsed": true
   },
   "outputs": [],
   "source": [
    "specialchars = ['<eos>','<start>','<end>','<unk>']"
   ]
  },
  {
   "cell_type": "code",
   "execution_count": 119,
   "metadata": {
    "collapsed": true
   },
   "outputs": [],
   "source": [
    "def addchar(what2ind,ind2what,char):\n",
    "    if char in what2ind:\n",
    "        return \n",
    "    ind2what[len(what2ind)] = char\n",
    "    what2ind[char] = len(what2ind)"
   ]
  },
  {
   "cell_type": "code",
   "execution_count": 120,
   "metadata": {
    "collapsed": true
   },
   "outputs": [],
   "source": [
    "for one in specialchars:\n",
    "    addchar(ch2ind,ind2ch,one)\n",
    "    addchar(en2ind,ind2en,one)"
   ]
  },
  {
   "cell_type": "code",
   "execution_count": 121,
   "metadata": {
    "collapsed": true
   },
   "outputs": [],
   "source": [
    "for word,_ in Counter(enwords).most_common(10000):\n",
    "    addchar(en2ind,ind2en,word)"
   ]
  },
  {
   "cell_type": "code",
   "execution_count": 122,
   "metadata": {
    "collapsed": true
   },
   "outputs": [],
   "source": [
    "for word,_ in Counter(chwords).most_common(10000):\n",
    "    addchar(ch2ind,ind2ch,word)"
   ]
  },
  {
   "cell_type": "code",
   "execution_count": 123,
   "metadata": {},
   "outputs": [
    {
     "data": {
      "text/plain": [
       "(10004, 4058)"
      ]
     },
     "execution_count": 123,
     "metadata": {},
     "output_type": "execute_result"
    }
   ],
   "source": [
    "len(en2ind),len(ch2ind)"
   ]
  },
  {
   "cell_type": "code",
   "execution_count": 250,
   "metadata": {
    "collapsed": true
   },
   "outputs": [],
   "source": [
    "dat_x_in = []\n",
    "dat_y_in = []\n",
    "dat_y_out = []\n",
    "\n",
    "dat_x_len = []\n",
    "dat_y_len = []\n",
    "\n",
    "for ensent in enlines:\n",
    "    indsent = [en2ind.get(i,en2ind['<unk>']) for i in ensent]\n",
    "    indsent.append(en2ind['<eos>'])\n",
    "    dat_x_in.append(indsent)\n",
    "    dat_x_len.append(len(indsent))\n",
    "    \n",
    "for chsent in chlines:\n",
    "    indsent = [ch2ind.get(i,ch2ind['<unk>']) for i in chsent]\n",
    "    #indsent.append(ch2ind['<eos>'])\n",
    "    dat_y_in.append([ch2ind['<start>']] + indsent)\n",
    "    dat_y_out.append(indsent + [ch2ind['<end>']])\n",
    "    dat_y_len.append(len(indsent) + 1)"
   ]
  },
  {
   "cell_type": "code",
   "execution_count": 251,
   "metadata": {},
   "outputs": [
    {
     "data": {
      "text/plain": [
       "['couple', '.', '<eos>']"
      ]
     },
     "execution_count": 251,
     "metadata": {},
     "output_type": "execute_result"
    }
   ],
   "source": [
    "[ind2en[i] for i in dat_x_in[4]]"
   ]
  },
  {
   "cell_type": "code",
   "execution_count": 252,
   "metadata": {},
   "outputs": [
    {
     "data": {
      "text/plain": [
       "['<start>', '一', '对', '夫', '妻', '。']"
      ]
     },
     "execution_count": 252,
     "metadata": {},
     "output_type": "execute_result"
    }
   ],
   "source": [
    "[ind2ch[i] for i in dat_y_in[4]]"
   ]
  },
  {
   "cell_type": "code",
   "execution_count": 253,
   "metadata": {},
   "outputs": [
    {
     "data": {
      "text/plain": [
       "['一', '对', '夫', '妻', '。', '<end>']"
      ]
     },
     "execution_count": 253,
     "metadata": {},
     "output_type": "execute_result"
    }
   ],
   "source": [
    "[ind2ch[i] for i in dat_y_out[4]]"
   ]
  },
  {
   "cell_type": "code",
   "execution_count": 254,
   "metadata": {},
   "outputs": [
    {
     "data": {
      "text/plain": [
       "(3, 6)"
      ]
     },
     "execution_count": 254,
     "metadata": {},
     "output_type": "execute_result"
    }
   ],
   "source": [
    "dat_x_len[4],dat_y_len[4]"
   ]
  },
  {
   "cell_type": "code",
   "execution_count": 255,
   "metadata": {},
   "outputs": [
    {
     "data": {
      "text/plain": [
       "(103912, 103912, 103912, 103912, 103912)"
      ]
     },
     "execution_count": 255,
     "metadata": {},
     "output_type": "execute_result"
    }
   ],
   "source": [
    "len(dat_x_in),\\\n",
    "len(dat_y_in),\\\n",
    "len(dat_y_out),\\\n",
    "len(dat_x_len),\\\n",
    "len(dat_y_len)"
   ]
  },
  {
   "cell_type": "markdown",
   "metadata": {},
   "source": [
    "# MODEL PART"
   ]
  },
  {
   "cell_type": "code",
   "execution_count": 158,
   "metadata": {
    "collapsed": true
   },
   "outputs": [],
   "source": [
    "from tensorflow.python.layers import core as layers_core"
   ]
  },
  {
   "cell_type": "code",
   "execution_count": 150,
   "metadata": {
    "collapsed": true
   },
   "outputs": [],
   "source": [
    "import tensorflow as tf\n",
    "import tflearn\n",
    "tf.reset_default_graph()\n",
    "config = tf.ConfigProto(log_device_placement=True,allow_soft_placement = True)\n",
    "config.gpu_options.allow_growth = True\n",
    "#config.gpu_options.per_process_gpu_memory_fraction = 0.4\n",
    "session = tf.Session(config=config)\n"
   ]
  },
  {
   "cell_type": "code",
   "execution_count": 315,
   "metadata": {
    "collapsed": true
   },
   "outputs": [],
   "source": [
    "embedding_size = 512\n",
    "num_units = 512\n",
    "batch_size = 128\n",
    "layer_number = 2\n",
    "max_grad = 1.0\n",
    "dropout = 0.2\n",
    "src_vocab_size = len(en2ind)\n",
    "target_vocat_size = len(ch2ind)\n",
    "seq_max_len = sentlength + 1\n",
    "maximum_iterations = 10"
   ]
  },
  {
   "cell_type": "code",
   "execution_count": 301,
   "metadata": {
    "collapsed": true
   },
   "outputs": [],
   "source": [
    "\n",
    "tf.reset_default_graph()\n",
    "config = tf.ConfigProto(log_device_placement=True,allow_soft_placement = True)\n",
    "config.gpu_options.allow_growth = True\n",
    "#config.gpu_options.per_process_gpu_memory_fraction = 0.4\n",
    "session = tf.Session(config=config)\n",
    "\n",
    "with tf.device('/gpu:1'):\n",
    "    initializer = tf.random_uniform_initializer(\n",
    "        -0.08, 0.08)\n",
    "    tf.get_variable_scope().set_initializer(initializer)\n",
    "    \n",
    "    x = tf.placeholder(\"int32\", [None, None])\n",
    "    y = tf.placeholder(\"int32\", [None, None])\n",
    "    y_in = tf.placeholder(\"int32\",[None,None])\n",
    "    \n",
    "    x_len = tf.placeholder(\"int32\",[None])\n",
    "    y_len = tf.placeholder(\"int32\",[None])\n",
    "    learning_rate = tf.placeholder(tf.float32, shape=[])\n",
    "    \n",
    "    # embedding\n",
    "    embedding_encoder = tf.get_variable(\n",
    "        \"embedding_encoder\", [src_vocab_size, embedding_size],dtype=tf.float32)\n",
    "    embedding_decoder = tf.get_variable(\n",
    "        \"embedding_decoder\", [target_vocat_size, embedding_size],dtype=tf.float32)\n",
    "    \n",
    "    encoder_emb_inp = tf.nn.embedding_lookup(\n",
    "        embedding_encoder, x)\n",
    "    decoder_emb_inp = tf.nn.embedding_lookup(\n",
    "        embedding_decoder, y_in)\n",
    "    \n",
    "    # encoder\n",
    "    num_bi_layers = int(layer_number / 2)\n",
    "    \n",
    "    # Build RNN cell\n",
    "    encoder_cell = tf.nn.rnn_cell.BasicLSTMCell(num_units)\n",
    "\n",
    "    # Run Dynamic RNN\n",
    "    #   encoder_outputs: [max_time, batch_size, num_units]\n",
    "    #   encoder_state: [batch_size, num_units]\n",
    "    encoder_outputs, encoder_state = tf.nn.dynamic_rnn(\n",
    "        encoder_cell, encoder_emb_inp,\n",
    "        sequence_length=x_len, time_major=False,dtype=tf.float32)\n",
    "        \n",
    "    \n",
    "    \n",
    "    batch_size_in = tf.shape(x)[0]\n",
    "    projection_layer = layers_core.Dense(\n",
    "        len(ch2ind), use_bias=False)\n",
    "    # Dynamic decoding\n",
    "    with tf.variable_scope(\"decode_layer\"):\n",
    "        # Build RNN cell\n",
    "        decoder_cell = tf.nn.rnn_cell.BasicLSTMCell(num_units)\n",
    "        # Helper\n",
    "        helper = tf.contrib.seq2seq.TrainingHelper(\n",
    "            decoder_emb_inp, y_len, time_major=False)\n",
    "        # Decoder\n",
    "        decoder = tf.contrib.seq2seq.BasicDecoder(\n",
    "            decoder_cell, helper, encoder_state,\n",
    "            output_layer=projection_layer)\n",
    "        # Dynamic decoding\n",
    "        outputs, _ , __ = tf.contrib.seq2seq.dynamic_decode(decoder)\n",
    "        logits = outputs.rnn_output\n",
    "        target_weights = tf.sequence_mask(\n",
    "            y_len, seq_max_len, dtype=logits.dtype)\n",
    "    \n",
    "    # predicting\n",
    "    # Helper\n",
    "    with tf.variable_scope(\"decode_layer\", reuse=True):\n",
    "        # Helper\n",
    "        helper = tf.contrib.seq2seq.GreedyEmbeddingHelper(\n",
    "            embedding_decoder,\n",
    "            tf.fill([batch_size_in], ch2ind['<start>']), ch2ind['<end>'])\n",
    "\n",
    "        # Decoder\n",
    "        decoder = tf.contrib.seq2seq.BasicDecoder(\n",
    "            decoder_cell, helper, encoder_state,\n",
    "            output_layer=projection_layer)\n",
    "        # Dynamic decoding\n",
    "        outputs, _ , __= tf.contrib.seq2seq.dynamic_decode(\n",
    "            decoder, maximum_iterations=maximum_iterations)\n",
    "        translations = outputs.sample_id\n",
    "        \n",
    "\n",
    "    # calculate loss\n",
    "    crossent = tf.nn.sparse_softmax_cross_entropy_with_logits(\n",
    "        labels=y, logits=logits)\n",
    "    train_loss = (tf.reduce_sum(crossent * target_weights) /\n",
    "        tf.cast(batch_size_in,tf.float32))\n",
    "    \n",
    "    optimizer_ori = tf.train.GradientDescentOptimizer(learning_rate=learning_rate)\n",
    "    trainable_params = tf.trainable_variables()\n",
    "    gradients = tf.gradients(train_loss, trainable_params)\n",
    "    clip_gradients, _ = tf.clip_by_global_norm(gradients, max_grad)\n",
    "    global_step = tf.Variable(0, trainable=False, name='global_step')\n",
    "    optimizer = optimizer_ori.apply_gradients(\n",
    "            zip(clip_gradients, trainable_params), global_step=global_step)\n",
    "    #optimizer = tf.train.GradientDescentOptimizer(learning_rate=learning_rate).minimize(train_loss)\n",
    "    #trainop = tflearn.TrainOp(loss=train_loss, optimizer=optimizer,\n",
    "    #                          metric=train_loss, batch_size=64)"
   ]
  },
  {
   "cell_type": "code",
   "execution_count": 340,
   "metadata": {
    "collapsed": true
   },
   "outputs": [],
   "source": [
    "session.run(tf.global_variables_initializer())"
   ]
  },
  {
   "cell_type": "code",
   "execution_count": 303,
   "metadata": {},
   "outputs": [
    {
     "data": {
      "text/plain": [
       "(1, 6, 512)"
      ]
     },
     "execution_count": 303,
     "metadata": {},
     "output_type": "execute_result"
    }
   ],
   "source": [
    "session.run(encoder_emb_inp,feed_dict={\n",
    "    x:np.asarray(dat_x_in[:1])\n",
    "}).shape"
   ]
  },
  {
   "cell_type": "code",
   "execution_count": 256,
   "metadata": {
    "collapsed": true
   },
   "outputs": [],
   "source": [
    "dat_x_in = tf.keras.preprocessing.sequence.pad_sequences(dat_x_in,padding='post',value=en2ind['<eos>'])\n",
    "dat_y_in = tf.keras.preprocessing.sequence.pad_sequences(dat_y_in,padding='post',value=en2ind['<end>'])\n",
    "dat_y_out = tf.keras.preprocessing.sequence.pad_sequences(dat_y_out,padding='post',value=en2ind['<end>'])\n",
    "\n",
    "dat_x_len = np.asarray(dat_x_len)\n",
    "dat_y_len = np.asarray(dat_y_len)"
   ]
  },
  {
   "cell_type": "code",
   "execution_count": 304,
   "metadata": {},
   "outputs": [
    {
     "data": {
      "text/plain": [
       "((103912, 6), (103912, 6), (103912, 6), (103912,), (103912,))"
      ]
     },
     "execution_count": 304,
     "metadata": {},
     "output_type": "execute_result"
    }
   ],
   "source": [
    "dat_x_in.shape,dat_y_in.shape,dat_y_out.shape,dat_x_len.shape,dat_y_len.shape"
   ]
  },
  {
   "cell_type": "code",
   "execution_count": 341,
   "metadata": {},
   "outputs": [
    {
     "name": "stdout",
     "output_type": "stream",
     "text": [
      "EPOCH 40 batch 810 lr 7.62939453125e-06 loss 0.38680240511894226 99.90 % [=================================================>-] 103808/103912 \t used:17s eta:0 s"
     ]
    }
   ],
   "source": [
    "losses = []\n",
    "beginning_lr = 4\n",
    "for one_epoch in range(0,40):\n",
    "    index = np.asarray(list(range(len(dat_x_in))))\n",
    "    np.random.shuffle(index)\n",
    "    pb = ProgressBar(worksum=len(index))\n",
    "    pb.startjob()\n",
    "    for i in range(0,len(index),batch_size):\n",
    "        batchindex = index[i:i + batch_size]\n",
    "        \n",
    "        batch_lr = beginning_lr if one_epoch < 20 else beginning_lr * 0.5 ** (one_epoch - 20)\n",
    "        if len(batchindex) < batch_size:\n",
    "            break\n",
    "        _,batch_loss = session.run([optimizer,train_loss],feed_dict={\n",
    "            x:dat_x_in[batchindex],\n",
    "            y:dat_y_out[batchindex],\n",
    "            y_in:dat_y_in[batchindex],\n",
    "\n",
    "            x_len:dat_x_len[batchindex],\n",
    "            y_len:dat_y_len[batchindex],\n",
    "            learning_rate:batch_lr,\n",
    "        })\n",
    "        pb.info = \"EPOCH {} batch {} lr {} loss {}\".format(one_epoch + 1,i // batch_size,batch_lr,batch_loss)\n",
    "        pb.complete(batch_size)\n",
    "        losses.append(batch_loss)"
   ]
  },
  {
   "cell_type": "code",
   "execution_count": 342,
   "metadata": {
    "collapsed": true
   },
   "outputs": [],
   "source": [
    "import pandas as pd"
   ]
  },
  {
   "cell_type": "code",
   "execution_count": 343,
   "metadata": {},
   "outputs": [
    {
     "data": {
      "text/plain": [
       "<matplotlib.axes._subplots.AxesSubplot at 0x7f5347d106d8>"
      ]
     },
     "execution_count": 343,
     "metadata": {},
     "output_type": "execute_result"
    },
    {
     "data": {
      "image/png": "[encoded data removed]",
      "text/plain": [
       "<matplotlib.figure.Figure at 0x7f5347d06a90>"
      ]
     },
     "metadata": {},
     "output_type": "display_data"
    }
   ],
   "source": [
    "%matplotlib inline\n",
    "pd.DataFrame(losses).plot()"
   ]
  },
  {
   "cell_type": "markdown",
   "metadata": {},
   "source": [
    "# run predict"
   ]
  },
  {
   "cell_type": "code",
   "execution_count": 363,
   "metadata": {
    "collapsed": true
   },
   "outputs": [],
   "source": [
    "def translate(sent):\n",
    "    senttoken = [en2ind[i.lower()] for i in sent.split()]\n",
    "    senttoken.append(en2ind['<eos>'])\n",
    "    inputx = np.asarray([senttoken])\n",
    "    inputx_len = np.asarray([len(senttoken)])\n",
    "    print(inputx,inputx_len)\n",
    "    batch_translations = session.run(translations,feed_dict={\n",
    "            x:inputx,\n",
    "            x_len:inputx_len,\n",
    "        })[0]\n",
    "    return ''.join([ind2ch[i] for i in batch_translations])"
   ]
  },
  {
   "cell_type": "code",
   "execution_count": 426,
   "metadata": {
    "collapsed": true
   },
   "outputs": [],
   "source": [
    "source_sentence = \"i love shopping .\""
   ]
  },
  {
   "cell_type": "code",
   "execution_count": 427,
   "metadata": {},
   "outputs": [
    {
     "name": "stdout",
     "output_type": "stream",
     "text": [
      "[[   7   84 1249    4    0]] [5]\n"
     ]
    },
    {
     "data": {
      "text/plain": [
       "'我爱购物。<end>'"
      ]
     },
     "execution_count": 427,
     "metadata": {},
     "output_type": "execute_result"
    }
   ],
   "source": [
    "translate(source_sentence)"
   ]
  },
  {
   "cell_type": "code",
   "execution_count": 430,
   "metadata": {
    "collapsed": true
   },
   "outputs": [],
   "source": [
    "! mkdir models"
   ]
  },
  {
   "cell_type": "code",
   "execution_count": 431,
   "metadata": {
    "collapsed": true
   },
   "outputs": [],
   "source": [
    "saver = tf.train.Saver()"
   ]
  },
  {
   "cell_type": "code",
   "execution_count": 433,
   "metadata": {},
   "outputs": [
    {
     "data": {
      "text/plain": [
       "'models/seq2seq_model'"
      ]
     },
     "execution_count": 433,
     "metadata": {},
     "output_type": "execute_result"
    }
   ],
   "source": [
    "saver.save(session,'models/seq2seq_model')"
   ]
  },
  {
   "cell_type": "code",
   "execution_count": 436,
   "metadata": {},
   "outputs": [
    {
     "name": "stdout",
     "output_type": "stream",
     "text": [
      "-rw-rw-r-- 1 meta meta 53903364  7月  5 20:45 models/seq2seq_model.data-00000-of-00001\r\n"
     ]
    }
   ],
   "source": [
    "! ls -l 'models/seq2seq_model.data-00000-of-00001'"
   ]
  },
  {
   "cell_type": "code",
   "execution_count": null,
   "metadata": {
    "collapsed": true
   },
   "outputs": [],
   "source": []
  }
 ],
 "metadata": {
  "kernelspec": {
   "display_name": "tf1.3_python",
   "language": "python",
   "name": "tf1.3_kernel"
  },
  "language_info": {
   "codemirror_mode": {
    "name": "ipython",
    "version": 3
   },
   "file_extension": ".py",
   "mimetype": "text/x-python",
   "name": "python",
   "nbconvert_exporter": "python",
   "pygments_lexer": "ipython3",
   "version": "3.6.0"
  }
 },
 "nbformat": 4,
 "nbformat_minor": 2
}
