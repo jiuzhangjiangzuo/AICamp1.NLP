{
 "cells": [
  {
   "cell_type": "markdown",
   "metadata": {},
   "source": [
    "# DATA DOWNLOAD\n",
    "To start this project, you need an addition data file.\n",
    "\n",
    "First you should download data from:\n",
    "https://pan.baidu.com/s/1KFui9zZKjRqzFkCJH5nenw\n",
    "    \n",
    "Then unzip it,create a data dir, and put it in data directory\n",
    "\n",
    "## After you do all that , the following file should be found:\n",
    "\n",
    "```python\n",
    "'data/segmented_train_seg_by_word.txt' \n",
    "```\n",
    "\n",
    "And that means you are good to go."
   ]
  },
  {
   "cell_type": "code",
   "execution_count": 1,
   "metadata": {},
   "outputs": [
    {
     "name": "stdout",
     "output_type": "stream",
     "text": [
      " 20000000 data/segmented_train_seg_by_word.txt\r\n"
     ]
    }
   ],
   "source": [
    "! wc -l data/segmented_train_seg_by_word.txt"
   ]
  },
  {
   "cell_type": "markdown",
   "metadata": {},
   "source": [
    "# DATA PROCESS"
   ]
  },
  {
   "cell_type": "code",
   "execution_count": 2,
   "metadata": {},
   "outputs": [],
   "source": [
    "from utils import ProgressBar\n",
    "import numpy as np\n",
    "import collections\n",
    "from matplotlib import pyplot as plt\n",
    "import tensorflow as tf\n",
    "import pandas as pd\n",
    "%matplotlib inline"
   ]
  },
  {
   "cell_type": "raw",
   "metadata": {},
   "source": [
    "把每一个中文和英文句子做拆分：\n",
    "chlines = [\n",
    "    ['一对','双胞胎','。'],\n",
    "    ...\n",
    "]\n",
    "\n",
    "enlines = [\n",
    "    ['a', 'twin', '.'],\n",
    "    ...\n",
    "]"
   ]
  },
  {
   "cell_type": "code",
   "execution_count": 3,
   "metadata": {},
   "outputs": [
    {
     "name": "stdout",
     "output_type": "stream",
     "text": [
      " 100.00 % [==================================================>] 10000000/10000000 \t used:91s eta:0 s"
     ]
    }
   ],
   "source": [
    "enline = None\n",
    "chline = None\n",
    "\n",
    "sentlength = 4\n",
    "\n",
    "enlines = []\n",
    "chlines = []\n",
    "pb = ProgressBar(worksum=10000000)\n",
    "pb.startjob()\n",
    "num = 0\n",
    "with open('data/segmented_train_seg_by_word.txt') as fhdl:\n",
    "    for line in fhdl:\n",
    "        num += 1\n",
    "        # 使用行号作为标注，奇数行为英文，偶数行为中文\n",
    "        if num % 2 == 1:\n",
    "            enline = line\n",
    "            continue\n",
    "        else:\n",
    "            chline = line\n",
    "        \n",
    "        enlinesp = [i.lower() for i in enline.strip(\"\\n\").split()]\n",
    "        chlinesp = [i for i in chline.strip(\"\\n\").split()]\n",
    "        # 设置一个最大长度提升demo速度\n",
    "        if len(enlinesp) <= sentlength and len(chlinesp) <= sentlength:\n",
    "            enlines.append(enlinesp)\n",
    "            chlines.append(chlinesp)\n",
    "        if (num // 2) % 1000 == 0:\n",
    "            pb.complete(1000)\n",
    "            \n",
    "        #if num // 2 >= 1000000:\n",
    "        #    break\n",
    "        "
   ]
  },
  {
   "cell_type": "code",
   "execution_count": 4,
   "metadata": {},
   "outputs": [
    {
     "data": {
      "text/plain": [
       "(150904, 150904)"
      ]
     },
     "execution_count": 4,
     "metadata": {},
     "output_type": "execute_result"
    }
   ],
   "source": [
    "len(enlines),len(chlines)"
   ]
  },
  {
   "cell_type": "code",
   "execution_count": 5,
   "metadata": {},
   "outputs": [],
   "source": [
    "# 收集所有单词\n",
    "\n",
    "words = []\n",
    "\n",
    "for sent in chlines:\n",
    "    for word in sent:\n",
    "        words.append(word)\n",
    "        \n",
    "for sent in enlines:\n",
    "    for word in sent:\n",
    "        words.append(word)"
   ]
  },
  {
   "cell_type": "code",
   "execution_count": 6,
   "metadata": {},
   "outputs": [],
   "source": [
    "from collections import Counter"
   ]
  },
  {
   "cell_type": "code",
   "execution_count": 7,
   "metadata": {},
   "outputs": [
    {
     "data": {
      "text/plain": [
       "[('.', 69213),\n",
       " ('。', 64997),\n",
       " ('？', 18494),\n",
       " ('?', 18486),\n",
       " ('的', 15156),\n",
       " ('...', 15073),\n",
       " (',', 13814),\n",
       " ('，', 12598),\n",
       " ('the', 11865),\n",
       " ('我', 11374),\n",
       " ('！', 11165),\n",
       " ('!', 10976),\n",
       " ('i', 8885),\n",
       " ('你', 7707),\n",
       " ('了', 7633)]"
      ]
     },
     "execution_count": 7,
     "metadata": {},
     "output_type": "execute_result"
    }
   ],
   "source": [
    "Counter(words).most_common(15)"
   ]
  },
  {
   "cell_type": "code",
   "execution_count": 8,
   "metadata": {},
   "outputs": [],
   "source": [
    "def addchar(word2ind,ind2word,char):\n",
    "    if char in word2ind:\n",
    "        return \n",
    "    ind2word[len(word2ind)] = char\n",
    "    word2ind[char] = len(word2ind)"
   ]
  },
  {
   "cell_type": "code",
   "execution_count": 9,
   "metadata": {},
   "outputs": [],
   "source": [
    "word2ind = {}\n",
    "ind2word = {}\n",
    "\n",
    "# 引入两个特殊符号\n",
    "# <pad> 表示空白符，用于填充一个batch中长度不够的序列，使得batch中的所有序列长度一致\n",
    "# <unk> 表示未知，用于表示在词表中未出现的单词\n",
    "specialchars = ['<pad>','<unk>']\n",
    "\n",
    "for one in specialchars:\n",
    "    addchar(word2ind,ind2word,one)"
   ]
  },
  {
   "cell_type": "code",
   "execution_count": 10,
   "metadata": {},
   "outputs": [],
   "source": [
    "# 用最频繁使用的10000个单词构建词表\n",
    "for word,_ in Counter(words).most_common(10000):\n",
    "    addchar(word2ind,ind2word,word)"
   ]
  },
  {
   "cell_type": "code",
   "execution_count": 11,
   "metadata": {},
   "outputs": [],
   "source": [
    "# 构建训练数据集\n",
    "dat_x_in = [] #输入\n",
    "dat_y = []    #标注\n",
    "\n",
    "for chsent,ensent in zip(chlines,enlines):\n",
    "    #把一句中文转化成为 a list of id\n",
    "    indsent = [word2ind.get(i,word2ind['<unk>']) for i in chsent]\n",
    "    dat_x_in.append(indsent)\n",
    "    dat_y.append(0) #中文标注为0\n",
    "    \n",
    "    #把一句英文转化成为 a list of id\n",
    "    indsent = [word2ind.get(i,word2ind['<unk>']) for i in ensent]\n",
    "    dat_x_in.append(indsent)\n",
    "    dat_y.append(1) #英文标注为1"
   ]
  },
  {
   "cell_type": "code",
   "execution_count": 12,
   "metadata": {},
   "outputs": [],
   "source": [
    "# Batch对齐：用<pad>补齐所有batch的序列长度\n",
    "dat_x_in = tf.keras.preprocessing.sequence.pad_sequences(dat_x_in,padding='post',value=word2ind['<pad>'])"
   ]
  },
  {
   "cell_type": "code",
   "execution_count": 13,
   "metadata": {},
   "outputs": [],
   "source": [
    "dat_y = np.asarray(dat_y)"
   ]
  },
  {
   "cell_type": "code",
   "execution_count": 14,
   "metadata": {},
   "outputs": [
    {
     "name": "stdout",
     "output_type": "stream",
     "text": [
      "(301808, 4) (301808,)\n",
      "[['一对二', '胜', '。'], ['一对', '五百', '诶', '。'], ['一对', '双胞胎', '。'], ['一对', '双胞胎', '女孩', '。'], ['一对', '同卵', '双胞胎', '。'], ['一对', '后进生', '。'], ['一对', '夫妇', '。'], ['一对', '夫妻', '。'], ['一对', '好人', '。'], ['一对', '少年', '男女', '。']]\n",
      "[[   1    1    3    0]\n",
      " [   1   10 5637    2]\n",
      " [2207    1    1    3]\n",
      " [  63 1047 4795    2]\n",
      " [2207 3800    3    0]\n",
      " [  17 4191    2    0]\n",
      " [2207 3800  590    3]\n",
      " [4191  764    2    0]\n",
      " [2207    1 3800    3]\n",
      " [8895 3943    2    0]]\n"
     ]
    }
   ],
   "source": [
    "print(dat_x_in.shape,dat_y.shape)\n",
    "print(chlines[:10])\n",
    "print(dat_x_in[:10])"
   ]
  },
  {
   "cell_type": "code",
   "execution_count": 15,
   "metadata": {},
   "outputs": [],
   "source": [
    "# 写数据生成器，用于产生每个batch的training的x和y\n",
    "def data_generator(batch_size):\n",
    "    while True:\n",
    "        for i in range(0,len(dat_x_in),batch_size):\n",
    "            if i + batch_size < len(dat_x_in):\n",
    "                yield dat_x_in[i:i + batch_size],dat_y[i:i + batch_size]"
   ]
  },
  {
   "cell_type": "code",
   "execution_count": 16,
   "metadata": {},
   "outputs": [],
   "source": [
    "gen = data_generator(256)"
   ]
  },
  {
   "cell_type": "code",
   "execution_count": 17,
   "metadata": {},
   "outputs": [],
   "source": [
    "batch_x,batch_y = gen.__next__()"
   ]
  },
  {
   "cell_type": "code",
   "execution_count": 18,
   "metadata": {},
   "outputs": [
    {
     "data": {
      "text/plain": [
       "((256, 4), (256,))"
      ]
     },
     "execution_count": 18,
     "metadata": {},
     "output_type": "execute_result"
    }
   ],
   "source": [
    "batch_x.shape ,batch_y.shape"
   ]
  },
  {
   "cell_type": "markdown",
   "metadata": {},
   "source": [
    "# MODEL PART"
   ]
  },
  {
   "cell_type": "code",
   "execution_count": 19,
   "metadata": {},
   "outputs": [],
   "source": [
    "# 定义超参数\n",
    "batch_size = 256\n",
    "embedding_size = 100\n",
    "vocabulary_size = len(ind2word)\n",
    "num_units = 50"
   ]
  },
  {
   "cell_type": "code",
   "execution_count": 20,
   "metadata": {},
   "outputs": [
    {
     "name": "stdout",
     "output_type": "stream",
     "text": [
      "Device mapping:\n",
      "/job:localhost/replica:0/task:0/device:XLA_CPU:0 -> device: XLA_CPU device\n",
      "\n"
     ]
    }
   ],
   "source": [
    "import tensorflow.compat.v1 as tf\n",
    "tf.reset_default_graph()\n",
    "tf.disable_eager_execution()\n",
    "config = tf.ConfigProto(log_device_placement=True,allow_soft_placement = True)\n",
    "#config.gpu_options.allow_growth = True\n",
    "#config.gpu_options.per_process_gpu_memory_fraction = 0.4\n",
    "session = tf.Session(config=config)"
   ]
  },
  {
   "cell_type": "code",
   "execution_count": 30,
   "metadata": {},
   "outputs": [
    {
     "name": "stdout",
     "output_type": "stream",
     "text": [
      "Device mapping:\n",
      "/job:localhost/replica:0/task:0/device:XLA_CPU:0 -> device: XLA_CPU device\n",
      "\n"
     ]
    }
   ],
   "source": [
    "tf.reset_default_graph()\n",
    "config = tf.ConfigProto(log_device_placement=True,allow_soft_placement = True)\n",
    "config.gpu_options.allow_growth = True\n",
    "#config.gpu_options.per_process_gpu_memory_fraction = 0.4\n",
    "session = tf.Session(config=config)\n",
    "\n",
    "with tf.device('/gpu:1'):\n",
    "    # 定义初始化\n",
    "    initializer = tf.random_uniform_initializer(\n",
    "        -0.08, 0.08)\n",
    "    tf.get_variable_scope().set_initializer(initializer)\n",
    "    # 定义输入\n",
    "    x = tf.placeholder(\"int32\", [None, None])\n",
    "    y = tf.placeholder(\"int32\", [None])\n",
    "    x_len = tf.placeholder(\"int32\",[None]) # 控制RNN的时间片长度\n",
    "    learning_rate = tf.placeholder(tf.float32, shape=[])\n",
    "    \n",
    "    # Part1: embedding\n",
    "    # 定义embedding矩阵，注意：在这个实现里，我们让模型自己学习embedding矩阵\n",
    "    embedding_encoder = tf.get_variable(\n",
    "        \"embedding_encoder\", [vocabulary_size, embedding_size],dtype=tf.float32)\n",
    "    encoder_emb_inp = tf.nn.embedding_lookup(\n",
    "        embedding_encoder, x)\n",
    "    \n",
    "    # Part2: Build RNN cell\n",
    "    # 注意：我们这里使用了LSTM，后面会讲解LSTM，这里暂时认为就是一个RNN\n",
    "    encoder_cell = tf.nn.rnn_cell.BasicLSTMCell(num_units)\n",
    "    \n",
    "    # Run Dynamic RNN\n",
    "    #   encoder_outputs: [max_time, batch_size, num_units]  => 课件图上的o\n",
    "    #   encoder_state: [[batch_size, num_units], [batch_size, num_units]]    => 课件图上的s, LSTMCell（下节课讲）有两个状态，这里使用第一个\n",
    "    encoder_outputs, encoder_state = tf.nn.dynamic_rnn( #dynamic_rnn => 可以处理变长数据，batch长度可不一致（batch内部一致）\n",
    "        encoder_cell, encoder_emb_inp, #RNN单元，embedding\n",
    "        sequence_length=x_len, time_major=False,dtype=tf.float32) #时间片长度\n",
    "    \n",
    "    # Part3: 分类器\n",
    "    model_logistic = tf.layers.dense(encoder_state[0],1)\n",
    "    model_pred = tf.nn.sigmoid(model_logistic)\n",
    "    loss = tf.nn.sigmoid_cross_entropy_with_logits(labels=tf.cast(y,tf.float32),logits=tf.reshape(model_logistic,(-1,)))\n",
    "    loss = tf.reduce_mean(loss)\n",
    "    optimizer = tf.train.GradientDescentOptimizer(learning_rate=learning_rate).minimize(loss)\n",
    "    "
   ]
  },
  {
   "cell_type": "code",
   "execution_count": 23,
   "metadata": {},
   "outputs": [],
   "source": [
    "session.run(tf.global_variables_initializer())"
   ]
  },
  {
   "cell_type": "markdown",
   "metadata": {},
   "source": [
    "# Training"
   ]
  },
  {
   "cell_type": "code",
   "execution_count": 24,
   "metadata": {},
   "outputs": [
    {
     "name": "stdout",
     "output_type": "stream",
     "text": [
      "EPOCH 0 batch 301568 lr 0.1 loss 0.13739259541034698 100.01 % [==================================================>] 301824/301808 \t used:9s eta:0 s"
     ]
    }
   ],
   "source": [
    "losses = []\n",
    "beginning_lr = 0.1\n",
    "gen = data_generator(batch_size)\n",
    "for one_epoch in range(0,1):\n",
    "    pb = ProgressBar(worksum=len(dat_x_in))\n",
    "    pb.startjob()\n",
    "    for one_batch in range(0,len(dat_x_in),batch_size):\n",
    "        batch_x,batch_y = gen.__next__()\n",
    "        batch_x_len = np.asarray([len(i) for i in batch_x])\n",
    "        batch_lr = beginning_lr \n",
    "        \n",
    "        _,batch_loss = session.run([optimizer,loss],feed_dict={\n",
    "            x:batch_x,\n",
    "            y:batch_y,\n",
    "            x_len:batch_x_len,\n",
    "            learning_rate:batch_lr,\n",
    "        })\n",
    "        pb.info = \"EPOCH {} batch {} lr {} loss {}\".format(one_epoch,one_batch,batch_lr,batch_loss)\n",
    "        pb.complete(batch_size)\n",
    "        losses.append(batch_loss)"
   ]
  },
  {
   "cell_type": "code",
   "execution_count": 25,
   "metadata": {},
   "outputs": [
    {
     "data": {
      "text/plain": [
       "<matplotlib.axes._subplots.AxesSubplot at 0x13fa105c0>"
      ]
     },
     "execution_count": 25,
     "metadata": {},
     "output_type": "execute_result"
    },
    {
     "data": {
      "image/png": "[encoded data removed]",
      "text/plain": [
       "<Figure size 432x288 with 1 Axes>"
      ]
     },
     "metadata": {
      "needs_background": "light"
     },
     "output_type": "display_data"
    }
   ],
   "source": [
    "%matplotlib inline\n",
    "# 图示化Loss: 从0.7收敛到0.1左右\n",
    "pd.DataFrame(losses).plot()"
   ]
  },
  {
   "cell_type": "markdown",
   "metadata": {},
   "source": [
    "# run predict"
   ]
  },
  {
   "cell_type": "code",
   "execution_count": 26,
   "metadata": {},
   "outputs": [],
   "source": [
    "def predict_result(sent):\n",
    "    senttoken = [word2ind[i.lower()] for i in sent.split()]\n",
    "    inputx = np.asarray([senttoken])\n",
    "    inputx_len = np.asarray([len(senttoken)])\n",
    "    \n",
    "    print(inputx,inputx_len)\n",
    "    batch_predict = session.run(model_pred,feed_dict={\n",
    "            x:inputx,\n",
    "            x_len:inputx_len,\n",
    "        })[0]\n",
    "    return \"英文\" if batch_predict > 0.5 else \"中文\""
   ]
  },
  {
   "cell_type": "code",
   "execution_count": 27,
   "metadata": {},
   "outputs": [],
   "source": [
    "source_sentence = \"who are you , what do you want .\""
   ]
  },
  {
   "cell_type": "code",
   "execution_count": 28,
   "metadata": {},
   "outputs": [
    {
     "name": "stdout",
     "output_type": "stream",
     "text": [
      "[[278  48  18   8  29 125  18 185   2]] [9]\n"
     ]
    },
    {
     "data": {
      "text/plain": [
       "'英文'"
      ]
     },
     "execution_count": 28,
     "metadata": {},
     "output_type": "execute_result"
    }
   ],
   "source": [
    "predict_result(source_sentence)"
   ]
  },
  {
   "cell_type": "code",
   "execution_count": null,
   "metadata": {
    "collapsed": true
   },
   "outputs": [],
   "source": []
  }
 ],
 "metadata": {
  "kernelspec": {
   "display_name": "Python 3",
   "language": "python",
   "name": "python3"
  },
  "language_info": {
   "codemirror_mode": {
    "name": "ipython",
    "version": 3
   },
   "file_extension": ".py",
   "mimetype": "text/x-python",
   "name": "python",
   "nbconvert_exporter": "python",
   "pygments_lexer": "ipython3",
   "version": "3.5.6"
  }
 },
 "nbformat": 4,
 "nbformat_minor": 2
}
