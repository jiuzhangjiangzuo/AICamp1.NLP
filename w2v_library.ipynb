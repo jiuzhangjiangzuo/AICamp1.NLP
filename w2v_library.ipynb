{
 "cells": [
  {
   "cell_type": "code",
   "execution_count": 1,
   "metadata": {},
   "outputs": [],
   "source": [
    "import word2vec"
   ]
  },
  {
   "cell_type": "code",
   "execution_count": 5,
   "metadata": {},
   "outputs": [],
   "source": [
    "?word2vec.word2vec\n",
    "#hs: hierarchical softmax\n",
    "#negative: negative samples\n",
    "#通常不一起用"
   ]
  },
  {
   "cell_type": "code",
   "execution_count": 6,
   "metadata": {},
   "outputs": [
    {
     "name": "stdout",
     "output_type": "stream",
     "text": [
      "Starting training using file data/text8\n",
      "Vocab size: 71291\n",
      "Words in train file: 16718843\n",
      "Alpha: 0.000002  Progress: 100.03%  Words/thread/sec: 363.64k    Words/thread/sec: 299.77k   ogress: 0.48%  Words/thread/sec: 309.46k  ords/thread/sec: 334.61k  ds/thread/sec: 341.80k  3  Progress: 0.76%  Words/thread/sec: 332.80k  s/thread/sec: 343.04k  c: 343.27k    Words/thread/sec: 350.54k  .67k  36%  Words/thread/sec: 353.48k   0.024607  Progress: 1.58%  Words/thread/sec: 354.19k  57  Progress: 1.79%  Words/thread/sec: 356.63k  ad/sec: 361.47k  rogress: 3.26%  Words/thread/sec: 362.79k  ords/thread/sec: 364.58k  7%  Words/thread/sec: 365.38k  4003  Progress: 4.00%  Words/thread/sec: 364.50k  a: 0.023990  Progress: 4.05%  Words/thread/sec: 364.80k  : 0.023955  Progress: 4.19%  Words/thread/sec: 363.36k  s/thread/sec: 365.80k  23747  Progress: 5.03%  Words/thread/sec: 367.17k  0%  Words/thread/sec: 368.36k  ss: 6.35%  Words/thread/sec: 367.35k   0.023320  Progress: 6.73%  Words/thread/sec: 368.02k  ess: 6.82%  Words/thread/sec: 367.53k  67.78k  gress: 8.79%  Words/thread/sec: 368.95k  /sec: 369.06k  pha: 0.022497  Progress: 10.03%  Words/thread/sec: 369.46k    8.98k  10.87%  Words/thread/sec: 369.52k  : 0.022099  Progress: 11.62%  Words/thread/sec: 369.19k  9.63k  ss: 12.97%  Words/thread/sec: 369.92k  ead/sec: 370.20k  13.49%  Words/thread/sec: 369.41k  ha: 0.021615  Progress: 13.55%  Words/thread/sec: 370.15k  rds/thread/sec: 369.56k  404  Progress: 14.40%  Words/thread/sec: 369.80k  .06%  Words/thread/sec: 370.06k  thread/sec: 370.29k  .07k  %  Words/thread/sec: 370.41k   16.89%  Words/thread/sec: 368.99k  .020772  Progress: 16.93%  Words/thread/sec: 369.51k  8.88k  rogress: 17.11%  Words/thread/sec: 369.62k    Progress: 17.81%  Words/thread/sec: 369.30k  ss: 18.53%  Words/thread/sec: 370.02k  020208  Progress: 19.18%  Words/thread/sec: 370.12k  read/sec: 369.87k  ec: 370.25k  thread/sec: 370.27k  9.93k  .019891  Progress: 20.45%  Words/thread/sec: 370.10k    Progress: 21.02%  Words/thread/sec: 370.44k  67%  Words/thread/sec: 370.23k  Words/thread/sec: 370.14k  pha: 0.019254  Progress: 23.00%  Words/thread/sec: 370.75k   23.34%  Words/thread/sec: 370.34k  130  Progress: 23.49%  Words/thread/sec: 369.58k  370.26k  .018794  Progress: 24.84%  Words/thread/sec: 369.65k  sec: 369.94k  %  Words/thread/sec: 369.72k  d/sec: 369.48k  ress: 27.74%  Words/thread/sec: 369.37k  thread/sec: 369.32k   29.15%  Words/thread/sec: 368.98k  lpha: 0.017521  Progress: 29.94%  Words/thread/sec: 368.84k  /sec: 368.87k  0  Progress: 30.97%  Words/thread/sec: 368.61k  ds/thread/sec: 368.35k  ogress: 32.39%  Words/thread/sec: 368.07k  ec: 368.29k  a: 0.016616  Progress: 33.55%  Words/thread/sec: 368.39k  610  Progress: 33.57%  Words/thread/sec: 367.69k  60%  Words/thread/sec: 367.69k    35.22%  Words/thread/sec: 368.07k  47k  %  Words/thread/sec: 367.98k  ss: 36.85%  Words/thread/sec: 367.82k  367.29k  c: 367.62k  4k  ress: 39.83%  Words/thread/sec: 367.32k  s/thread/sec: 367.42k   0.014958  Progress: 40.24%  Words/thread/sec: 367.55k  : 0.014910  Progress: 40.37%  Words/thread/sec: 367.07k  14733  Progress: 41.08%  Words/thread/sec: 366.85k  14552  Progress: 41.81%  Words/thread/sec: 367.36k  s/thread/sec: 367.06k    Progress: 43.22%  Words/thread/sec: 366.71k  : 43.50%  Words/thread/sec: 366.66k    68%  Words/thread/sec: 366.78k  .014060  Progress: 43.77%  Words/thread/sec: 366.88k  c: 366.92k   366.77k  gress: 46.64%  Words/thread/sec: 366.55k  ead/sec: 366.42k   .013264  Progress: 46.96%  Words/thread/sec: 366.12k  s/thread/sec: 366.44k   Progress: 47.34%  Words/thread/sec: 366.45k  rds/thread/sec: 366.11k   48.69%  Words/thread/sec: 366.23k   366.09k  s: 49.95%  Words/thread/sec: 366.07k  gress: 50.29%  Words/thread/sec: 366.04k  31%  Words/thread/sec: 365.73k  pha: 0.012406  Progress: 50.39%  Words/thread/sec: 365.88k  thread/sec: 365.97k  87k  65.88k  5.66k  .27%  Words/thread/sec: 365.63k  66  Progress: 53.75%  Words/thread/sec: 365.43k  a: 0.011515  Progress: 53.95%  Words/thread/sec: 365.55k  1358  Progress: 54.58%  Words/thread/sec: 365.67k  ogress: 55.29%  Words/thread/sec: 365.39k  /sec: 365.45k  67%  Words/thread/sec: 365.60k  : 0.010755  Progress: 56.99%  Words/thread/sec: 365.26k  Words/thread/sec: 365.30k  pha: 0.010348  Progress: 58.62%  Words/thread/sec: 365.30k  %  Words/thread/sec: 365.15k  /sec: 365.14k   1.13%  Words/thread/sec: 365.08k  ss: 61.82%  Words/thread/sec: 365.13k    Words/thread/sec: 365.04k  009131  Progress: 63.49%  Words/thread/sec: 364.75k  365.01k  thread/sec: 364.92k  08977  Progress: 64.10%  Words/thread/sec: 364.83k  pha: 0.008808  Progress: 64.78%  Words/thread/sec: 364.98k    0.008453  Progress: 66.20%  Words/thread/sec: 364.95k  ad/sec: 364.82k  008296  Progress: 66.83%  Words/thread/sec: 364.61k  ess: 66.92%  Words/thread/sec: 364.89k  66.98%  Words/thread/sec: 364.60k    Words/thread/sec: 364.65k   67.71%  Words/thread/sec: 364.63k  .71k  45  Progress: 69.03%  Words/thread/sec: 364.72k  Progress: 69.71%  Words/thread/sec: 364.59k  Words/thread/sec: 364.86k  : 70.25%  Words/thread/sec: 364.65k  07426  Progress: 70.31%  Words/thread/sec: 364.37k   364.37k  8  Progress: 70.46%  Words/thread/sec: 364.48k   71.10%  Words/thread/sec: 364.51k   71.80%  Words/thread/sec: 364.37k  72.43%  Words/thread/sec: 364.41k  3.33%  Words/thread/sec: 364.42k  Progress: 73.48%  Words/thread/sec: 364.28k  lpha: 0.006604  Progress: 73.60%  Words/thread/sec: 364.14k   364.32k  ha: 0.006582  Progress: 73.69%  Words/thread/sec: 364.24k  c: 364.14k  ead/sec: 364.39k  ead/sec: 364.27k  ead/sec: 364.16k  6.66%  Words/thread/sec: 364.25k   Words/thread/sec: 364.19k   0.005767  Progress: 76.94%  Words/thread/sec: 364.01k  thread/sec: 363.91k  : 0.005726  Progress: 77.11%  Words/thread/sec: 364.10k  d/sec: 364.07k  5572  Progress: 77.73%  Words/thread/sec: 364.10k  ogress: 78.51%  Words/thread/sec: 364.10k   364.08k  lpha: 0.005050  Progress: 79.81%  Words/thread/sec: 364.17k  /sec: 364.11k   0.004773  Progress: 80.92%  Words/thread/sec: 364.05k    .004445  Progress: 82.23%  Words/thread/sec: 363.94k  pha: 0.004276  Progress: 82.91%  Words/thread/sec: 364.07k  /thread/sec: 363.78k  1%  Words/thread/sec: 363.83k  3  Progress: 84.12%  Words/thread/sec: 363.83k  ead/sec: 363.87k  3567  Progress: 85.74%  Words/thread/sec: 363.95k  /thread/sec: 364.03k  : 87.13%  Words/thread/sec: 363.74k  : 363.68k  Words/thread/sec: 363.73k  ords/thread/sec: 363.69k  hread/sec: 363.65k   Progress: 90.39%  Words/thread/sec: 363.56k  /sec: 363.67k  9  Progress: 91.82%  Words/thread/sec: 363.50k  ds/thread/sec: 363.51k  ogress: 93.23%  Words/thread/sec: 363.57k  1%  Words/thread/sec: 363.57k  s: 94.65%  Words/thread/sec: 363.65k  001176  Progress: 95.31%  Words/thread/sec: 363.46k  .07%  Words/thread/sec: 363.55k  31k   0.000641  Progress: 97.49%  Words/thread/sec: 363.52k  3.36k  read/sec: 363.47k  d/sec: 363.41k  "
     ]
    }
   ],
   "source": [
    "# data: http://mattmahoney.net/dc/text8.zip \n",
    "word2vec.word2vec('data/text8', 'data/text8_model.bin', size=100, verbose=True)"
   ]
  },
  {
   "cell_type": "code",
   "execution_count": 8,
   "metadata": {},
   "outputs": [],
   "source": [
    "model = word2vec.load('data/text8_model.bin')"
   ]
  },
  {
   "cell_type": "code",
   "execution_count": 9,
   "metadata": {},
   "outputs": [
    {
     "data": {
      "text/plain": [
       "array(['</s>', 'the', 'of', ..., 'bredon', 'skirting', 'santamaria'],\n",
       "      dtype='<U78')"
      ]
     },
     "execution_count": 9,
     "metadata": {},
     "output_type": "execute_result"
    }
   ],
   "source": [
    "model.vocab"
   ]
  },
  {
   "cell_type": "code",
   "execution_count": 11,
   "metadata": {},
   "outputs": [
    {
     "data": {
      "text/plain": [
       "array([-0.00141636,  0.06372185, -0.07930567, -0.01180605,  0.1439511 ,\n",
       "       -0.07494745, -0.02579369, -0.15554598, -0.06412161,  0.13778089,\n",
       "        0.04931567,  0.16407326, -0.08845119, -0.01559976, -0.00837816,\n",
       "       -0.08260307,  0.08805799, -0.01370265, -0.07084894,  0.17724203,\n",
       "       -0.01791955,  0.02819903,  0.05161753,  0.19164908, -0.03023198,\n",
       "       -0.0886358 , -0.00159064,  0.16879117,  0.19040228,  0.08890314,\n",
       "        0.04134671,  0.00825449,  0.01108672, -0.27847281,  0.0263354 ,\n",
       "       -0.07775564,  0.04314329, -0.19656418,  0.03890545, -0.0348034 ,\n",
       "        0.03837106, -0.09003295,  0.10133184, -0.18727186, -0.08406621,\n",
       "        0.04438805, -0.08019751, -0.0233032 ,  0.0182363 , -0.18411306,\n",
       "        0.03083131,  0.21244474,  0.19609782,  0.00038858, -0.00711375,\n",
       "       -0.11226732,  0.14318304, -0.07232531,  0.01529677, -0.08629938,\n",
       "       -0.03929103, -0.06106005, -0.00841544, -0.06821114, -0.18107206,\n",
       "        0.17994756, -0.14831106, -0.00858374, -0.00378621, -0.07815078,\n",
       "       -0.0229892 , -0.08156813, -0.03550925, -0.09259473,  0.05224834,\n",
       "       -0.00462864, -0.14842173, -0.04568365, -0.06682072, -0.0185553 ,\n",
       "        0.0915382 ,  0.01820905,  0.03305434, -0.10846034, -0.05159922,\n",
       "        0.19089094,  0.07035832,  0.05806067, -0.01276561,  0.027902  ,\n",
       "       -0.01991166, -0.17485373, -0.12519242,  0.04536535,  0.13440864,\n",
       "       -0.05037901,  0.10651821,  0.05217275,  0.11370605, -0.14538303])"
      ]
     },
     "execution_count": 11,
     "metadata": {},
     "output_type": "execute_result"
    }
   ],
   "source": [
    "model[\"hello\"]"
   ]
  },
  {
   "cell_type": "code",
   "execution_count": 21,
   "metadata": {},
   "outputs": [
    {
     "data": {
      "text/plain": [
       "[('panda', 'bear', 0.6154904608301293)]"
      ]
     },
     "execution_count": 21,
     "metadata": {},
     "output_type": "execute_result"
    }
   ],
   "source": [
    "model.distance(\"panda\", \"bear\")"
   ]
  },
  {
   "cell_type": "code",
   "execution_count": 22,
   "metadata": {},
   "outputs": [
    {
     "data": {
      "text/plain": [
       "[('panda', 'television', 0.1545477554032624)]"
      ]
     },
     "execution_count": 22,
     "metadata": {},
     "output_type": "execute_result"
    }
   ],
   "source": [
    "model.distance(\"panda\", \"television\")"
   ]
  },
  {
   "cell_type": "code",
   "execution_count": 23,
   "metadata": {},
   "outputs": [
    {
     "data": {
      "text/plain": [
       "[('bird', 0.8140475483407117),\n",
       " ('dolphin', 0.7944646769960414),\n",
       " ('whale', 0.7937205741832455),\n",
       " ('orca', 0.7921242766900649),\n",
       " ('lizard', 0.7912213354701614),\n",
       " ('gila', 0.7836442066167524),\n",
       " ('koala', 0.782875757094057),\n",
       " ('moth', 0.7788741825499889),\n",
       " ('lemur', 0.7733568033338897),\n",
       " ('kangaroo', 0.7673247429305776)]"
      ]
     },
     "execution_count": 23,
     "metadata": {},
     "output_type": "execute_result"
    }
   ],
   "source": [
    "indexes, metrics = model.similar(\"panda\")\n",
    "model.generate_response(indexes, metrics).tolist()"
   ]
  },
  {
   "cell_type": "code",
   "execution_count": 25,
   "metadata": {},
   "outputs": [
    {
     "data": {
      "text/plain": [
       "[('deng', 0.8010055371047673),\n",
       " ('zedong', 0.7568145280557401),\n",
       " ('aristide', 0.7382500699291306),\n",
       " ('gorbachev', 0.7301418385208325),\n",
       " ('nikita', 0.7229338031045535),\n",
       " ('sanjay', 0.7164103834257547),\n",
       " ('khrushchev', 0.7146588409277901),\n",
       " ('mikhail', 0.7109098283093669),\n",
       " ('castro', 0.7108479559634481),\n",
       " ('indira', 0.7060634928017591)]"
      ]
     },
     "execution_count": 25,
     "metadata": {},
     "output_type": "execute_result"
    }
   ],
   "source": [
    "indexes, metrics = model.similar(\"xiaoping\")\n",
    "model.generate_response(indexes, metrics).tolist()"
   ]
  },
  {
   "cell_type": "code",
   "execution_count": null,
   "metadata": {},
   "outputs": [],
   "source": []
  }
 ],
 "metadata": {
  "kernelspec": {
   "display_name": "Python 3",
   "language": "python",
   "name": "python3"
  },
  "language_info": {
   "codemirror_mode": {
    "name": "ipython",
    "version": 3
   },
   "file_extension": ".py",
   "mimetype": "text/x-python",
   "name": "python",
   "nbconvert_exporter": "python",
   "pygments_lexer": "ipython3",
   "version": "3.5.6"
  }
 },
 "nbformat": 4,
 "nbformat_minor": 4
}
