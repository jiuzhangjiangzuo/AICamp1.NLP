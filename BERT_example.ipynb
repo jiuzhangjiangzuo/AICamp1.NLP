{
 "cells": [
  {
   "cell_type": "markdown",
   "metadata": {},
   "source": [
    "Replace with your model dir and Restart Server: `bert-serving-start -model_dir /Users/andrew/jiuzhang/seq2seq/models/bert_uncased_L-12_H-768_A-12/ -num_worker=1`"
   ]
  },
  {
   "cell_type": "code",
   "execution_count": 1,
   "metadata": {},
   "outputs": [],
   "source": [
    "from bert_serving.client import BertClient\n",
    "client = BertClient()\n",
    "vectors = client.encode(['First do it', 'then do it right', 'then do it better'])"
   ]
  },
  {
   "cell_type": "code",
   "execution_count": 4,
   "metadata": {},
   "outputs": [
    {
     "data": {
      "text/plain": [
       "(3, 768)"
      ]
     },
     "execution_count": 4,
     "metadata": {},
     "output_type": "execute_result"
    }
   ],
   "source": [
    "# Sentence Embedding\n",
    "vectors.shape"
   ]
  },
  {
   "cell_type": "markdown",
   "metadata": {},
   "source": [
    "Replace with your model dir and Restart Server: `bert-serving-start -pooling_strategy NONE -model_dir /Users/andrew/jiuzhang/seq2seq/models/bert_uncased_L-12_H-768_A-12/ -num_worker=1`"
   ]
  },
  {
   "cell_type": "code",
   "execution_count": 7,
   "metadata": {},
   "outputs": [],
   "source": [
    "# Word Embedding\n",
    "# Start the server with pooling_strategy set to NONE\n",
    "# For example: bert-serving-start -pooling_strategy NONE -model_dir /Users/andrew/jiuzhang/seq2seq/models/bert_uncased_L-12_H-768_A-12/ -num_worker=1\n",
    "\n",
    "# max_seq_len = 25\n",
    "# pooling_strategy = NONE\n",
    "client = BertClient()\n",
    "vec = client.encode(['hey you', 'whats up?']) # [2, 25, 768]"
   ]
  },
  {
   "cell_type": "code",
   "execution_count": 10,
   "metadata": {},
   "outputs": [
    {
     "data": {
      "text/plain": [
       "(2, 25, 768)"
      ]
     },
     "execution_count": 10,
     "metadata": {},
     "output_type": "execute_result"
    }
   ],
   "source": [
    "vec.shape"
   ]
  },
  {
   "cell_type": "markdown",
   "metadata": {},
   "source": [
    "vec[0]  # [1, 25, 768], sentence embeddings for `hey you`        \n",
    "vec[0][0]  # [1, 1, 768], word embedding for `[CLS]`         \n",
    "vec[0][1]  # [1, 1, 768], word embedding for `hey`         \n",
    "vec[0][2]  # [1, 1, 768], word embedding for `you`          \n",
    "vec[0][3]  # [1, 1, 768], word embedding for `[SEP]`        \n",
    "vec[0][4]  # [1, 1, 768], word embedding for padding symbol         "
   ]
  },
  {
   "cell_type": "code",
   "execution_count": null,
   "metadata": {},
   "outputs": [],
   "source": []
  }
 ],
 "metadata": {
  "kernelspec": {
   "display_name": "Python 3",
   "language": "python",
   "name": "python3"
  },
  "language_info": {
   "codemirror_mode": {
    "name": "ipython",
    "version": 3
   },
   "file_extension": ".py",
   "mimetype": "text/x-python",
   "name": "python",
   "nbconvert_exporter": "python",
   "pygments_lexer": "ipython3",
   "version": "3.8.5"
  }
 },
 "nbformat": 4,
 "nbformat_minor": 4
}
